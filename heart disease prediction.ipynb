{
 "cells": [
  {
   "cell_type": "code",
   "execution_count": 35,
   "id": "d61f3d69-491d-42f1-9092-f782633debf2",
   "metadata": {},
   "outputs": [],
   "source": [
    "import keras\n",
    "import tensorflow\n",
    "from tensorflow.keras.utils import to_categorical\n",
    "from keras.models import Sequential\n",
    "from keras.layers import Dense, Flatten, Conv2D, MaxPooling2D, Dropout,InputLayer\n",
    "from tensorflow.keras.preprocessing.image import ImageDataGenerator"
   ]
  },
  {
   "cell_type": "code",
   "execution_count": 37,
   "id": "f6bc5ce7-f9a4-4c81-aca6-b815ad89d684",
   "metadata": {},
   "outputs": [
    {
     "name": "stdout",
     "output_type": "stream",
     "text": [
      "Found 928 images belonging to 4 classes.\n",
      "Found 204 images belonging to 4 classes.\n",
      "Epoch 1/15\n",
      "\u001b[1m29/29\u001b[0m \u001b[32m━━━━━━━━━━━━━━━━━━━━\u001b[0m\u001b[37m\u001b[0m \u001b[1m72s\u001b[0m 2s/step - accuracy: 0.2616 - loss: 1.5271\n",
      "Epoch 2/15\n",
      "\u001b[1m29/29\u001b[0m \u001b[32m━━━━━━━━━━━━━━━━━━━━\u001b[0m\u001b[37m\u001b[0m \u001b[1m66s\u001b[0m 2s/step - accuracy: 0.2931 - loss: 1.3754\n",
      "Epoch 3/15\n",
      "\u001b[1m29/29\u001b[0m \u001b[32m━━━━━━━━━━━━━━━━━━━━\u001b[0m\u001b[37m\u001b[0m \u001b[1m57s\u001b[0m 2s/step - accuracy: 0.4602 - loss: 1.2262\n",
      "Epoch 4/15\n",
      "\u001b[1m29/29\u001b[0m \u001b[32m━━━━━━━━━━━━━━━━━━━━\u001b[0m\u001b[37m\u001b[0m \u001b[1m57s\u001b[0m 2s/step - accuracy: 0.6294 - loss: 0.9373\n",
      "Epoch 5/15\n",
      "\u001b[1m29/29\u001b[0m \u001b[32m━━━━━━━━━━━━━━━━━━━━\u001b[0m\u001b[37m\u001b[0m \u001b[1m54s\u001b[0m 1s/step - accuracy: 0.7215 - loss: 0.7161\n",
      "Epoch 6/15\n",
      "\u001b[1m29/29\u001b[0m \u001b[32m━━━━━━━━━━━━━━━━━━━━\u001b[0m\u001b[37m\u001b[0m \u001b[1m52s\u001b[0m 1s/step - accuracy: 0.7418 - loss: 0.6560\n",
      "Epoch 7/15\n",
      "\u001b[1m29/29\u001b[0m \u001b[32m━━━━━━━━━━━━━━━━━━━━\u001b[0m\u001b[37m\u001b[0m \u001b[1m55s\u001b[0m 1s/step - accuracy: 0.8091 - loss: 0.5072\n",
      "Epoch 8/15\n",
      "\u001b[1m29/29\u001b[0m \u001b[32m━━━━━━━━━━━━━━━━━━━━\u001b[0m\u001b[37m\u001b[0m \u001b[1m51s\u001b[0m 1s/step - accuracy: 0.8579 - loss: 0.3678\n",
      "Epoch 9/15\n",
      "\u001b[1m29/29\u001b[0m \u001b[32m━━━━━━━━━━━━━━━━━━━━\u001b[0m\u001b[37m\u001b[0m \u001b[1m52s\u001b[0m 1s/step - accuracy: 0.9042 - loss: 0.2829\n",
      "Epoch 10/15\n",
      "\u001b[1m29/29\u001b[0m \u001b[32m━━━━━━━━━━━━━━━━━━━━\u001b[0m\u001b[37m\u001b[0m \u001b[1m51s\u001b[0m 1s/step - accuracy: 0.8802 - loss: 0.3055\n",
      "Epoch 11/15\n",
      "\u001b[1m29/29\u001b[0m \u001b[32m━━━━━━━━━━━━━━━━━━━━\u001b[0m\u001b[37m\u001b[0m \u001b[1m52s\u001b[0m 1s/step - accuracy: 0.9553 - loss: 0.1728\n",
      "Epoch 12/15\n",
      "\u001b[1m29/29\u001b[0m \u001b[32m━━━━━━━━━━━━━━━━━━━━\u001b[0m\u001b[37m\u001b[0m \u001b[1m781s\u001b[0m 27s/step - accuracy: 0.9756 - loss: 0.1155\n",
      "Epoch 13/15\n",
      "\u001b[1m29/29\u001b[0m \u001b[32m━━━━━━━━━━━━━━━━━━━━\u001b[0m\u001b[37m\u001b[0m \u001b[1m51s\u001b[0m 1s/step - accuracy: 0.9423 - loss: 0.1553\n",
      "Epoch 14/15\n",
      "\u001b[1m29/29\u001b[0m \u001b[32m━━━━━━━━━━━━━━━━━━━━\u001b[0m\u001b[37m\u001b[0m \u001b[1m50s\u001b[0m 1s/step - accuracy: 0.9534 - loss: 0.1509\n",
      "Epoch 15/15\n",
      "\u001b[1m29/29\u001b[0m \u001b[32m━━━━━━━━━━━━━━━━━━━━\u001b[0m\u001b[37m\u001b[0m \u001b[1m50s\u001b[0m 1s/step - accuracy: 0.9934 - loss: 0.0498\n"
     ]
    },
    {
     "data": {
      "text/plain": [
       "<keras.src.callbacks.history.History at 0x1787afe4be0>"
      ]
     },
     "execution_count": 37,
     "metadata": {},
     "output_type": "execute_result"
    }
   ],
   "source": [
    "trf=ImageDataGenerator(rescale=1./225)\n",
    "tef=ImageDataGenerator(rescale=1./225)\n",
    "model=Sequential()\n",
    "ts=trf.flow_from_directory(r\"C:\\Users\\sairi\\Cardiovascular-Heart-disease-prediction-using-Deep-learning-images-main\\train\",target_size=(64,64),class_mode=\"categorical\",color_mode='grayscale')\n",
    "tes=tef.flow_from_directory(r\"C:\\Users\\sairi\\Cardiovascular-Heart-disease-prediction-using-Deep-learning-images-main\\test\",target_size=(64,64),class_mode=\"categorical\",color_mode='grayscale')\n",
    "from keras.models import Sequential\n",
    "from keras.layers import Conv2D, MaxPooling2D, Flatten, Dense\n",
    "\n",
    "# Create a Sequential model\n",
    "model = Sequential()\n",
    "\n",
    "# Define the input shape\n",
    "model.add(Conv2D(64, 3, input_shape=(64, 64, 1), activation='relu'))\n",
    "model.add(MaxPooling2D(pool_size=(2,2)))\n",
    "model.add(Conv2D(64, 3, activation='relu'))\n",
    "model.add(MaxPooling2D(pool_size=(2,2)))\n",
    "model.add(Flatten())\n",
    "model.add(Dense(512, activation=\"relu\"))\n",
    "model.add(Dense(256, activation=\"relu\"))\n",
    "model.add(Dense(4, activation=\"sigmoid\"))\n",
    "\n",
    "# Compile the model\n",
    "model.compile(optimizer='adam', loss='categorical_crossentropy', metrics=['accuracy'])\n",
    "\n",
    "# Train the model\n",
    "model.fit(ts, epochs=15)"
   ]
  },
  {
   "cell_type": "code",
   "execution_count": 56,
   "id": "c1cfc5b8-37fa-486e-8a46-407b63758fdd",
   "metadata": {},
   "outputs": [
    {
     "name": "stdout",
     "output_type": "stream",
     "text": [
      "\u001b[1m1/1\u001b[0m \u001b[32m━━━━━━━━━━━━━━━━━━━━\u001b[0m\u001b[37m\u001b[0m \u001b[1m0s\u001b[0m 23ms/step\n",
      "0\n",
      "Myocardial Infected Person\n",
      "0\n",
      "\u001b[1m1/1\u001b[0m \u001b[32m━━━━━━━━━━━━━━━━━━━━\u001b[0m\u001b[37m\u001b[0m \u001b[1m0s\u001b[0m 22ms/step\n",
      "2\n",
      "Abnormal Heartbeat Infected Person\n",
      "2\n",
      "\u001b[1m1/1\u001b[0m \u001b[32m━━━━━━━━━━━━━━━━━━━━\u001b[0m\u001b[37m\u001b[0m \u001b[1m0s\u001b[0m 21ms/step\n",
      "1\n",
      "MI Infected Person\n",
      "1\n",
      "\u001b[1m1/1\u001b[0m \u001b[32m━━━━━━━━━━━━━━━━━━━━\u001b[0m\u001b[37m\u001b[0m \u001b[1m0s\u001b[0m 22ms/step\n",
      "3\n",
      "Normal Person\n",
      "3\n"
     ]
    }
   ],
   "source": [
    "# Function to predict image\n",
    "import numpy as np\n",
    "def predict_image(imagepath):\n",
    "    img = keras.preprocessing.image.load_img(imagepath, target_size=(64, 64),color_mode='grayscale')\n",
    "    img_array = keras.preprocessing.image.img_to_array(img)\n",
    "    img_array = img_array / 255.0  # Normalize\n",
    "    img_array = np.expand_dims(img_array, axis=0)\n",
    "    result = model.predict(img_array)\n",
    "    test = np.argmax(result)\n",
    "    print(test)\n",
    "    if test==3:\n",
    "      print(\"Normal Person\")\n",
    "    elif test==1:\n",
    "          print(\"MI Infected Person\")\n",
    "    elif test==0:\n",
    "          print(\"Myocardial Infected Person\")\n",
    "    elif test ==2:\n",
    "          print(\"Abnormal Heartbeat Infected Person\")\n",
    "    print(test)\n",
    "\n",
    "# Example usage\n",
    "predict_image(r\"C:\\Users\\sairi\\Cardiovascular-Heart-disease-prediction-using-Deep-learning-images-main\\train\\ECG Images of Myocardial Infarction Patients (240x12=2880)\\MI(1).jpg\")\n",
    "predict_image(r\"C:\\Users\\sairi\\Cardiovascular-Heart-disease-prediction-using-Deep-learning-images-main\\train\\ECG Images of Patient that have abnormal heartbeat (233x12=2796)\\HB(171).jpg\")\n",
    "predict_image(r\"C:\\Users\\sairi\\Cardiovascular-Heart-disease-prediction-using-Deep-learning-images-main\\train\\ECG Images of Patient that have History of MI (172x12=2064)\\PMI(160).jpg\")\n",
    "predict_image(r\"C:\\Users\\sairi\\Cardiovascular-Heart-disease-prediction-using-Deep-learning-images-main\\train\\Normal Person ECG Images (284x12=3408)\\Normal(65).jpg\")"
   ]
  }
 ],
 "metadata": {
  "kernelspec": {
   "display_name": "Python 3 (ipykernel)",
   "language": "python",
   "name": "python3"
  },
  "language_info": {
   "codemirror_mode": {
    "name": "ipython",
    "version": 3
   },
   "file_extension": ".py",
   "mimetype": "text/x-python",
   "name": "python",
   "nbconvert_exporter": "python",
   "pygments_lexer": "ipython3",
   "version": "3.10.5"
  }
 },
 "nbformat": 4,
 "nbformat_minor": 5
}
